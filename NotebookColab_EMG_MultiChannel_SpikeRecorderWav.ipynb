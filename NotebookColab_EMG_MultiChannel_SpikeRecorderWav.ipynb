{
  "cells": [
    {
      "cell_type": "markdown",
      "metadata": {
        "id": "view-in-github",
        "colab_type": "text"
      },
      "source": [
        "<a href=\"https://colab.research.google.com/github/neurologic/MotorSystems_BIOL358_SP22/blob/main/NotebookColab_EMG_MultiChannel_SpikeRecorderWav.ipynb\" target=\"_parent\"><img src=\"https://colab.research.google.com/assets/colab-badge.svg\" alt=\"Open In Colab\"/></a>"
      ]
    },
    {
      "cell_type": "markdown",
      "metadata": {
        "id": "zIt8pCksxZic"
      },
      "source": [
        "## Table of Contents\n",
        "1. [Introduction](#scrollTo=850eb426-07d8-4407-82f1-f163a2c960b6)\n",
        "2. [Initialize Notebook](#scrollTo=GsbjCNcAw9VA)\n",
        "3. [Import Data](#scrollTo=D2GAxldFiZaV)\n",
        "4. [Select Movement](#scrollTo=jE6GzivbzjVP)\n",
        "5. [Calculate EMG envelope](#scrollTo=0d1f1545-2f25-4bfe-be34-1dfb7ca3444e)\n",
        "6. [Analyze Muscle Coordination](#scrollTo=84f7e282-b954-42bd-8ea2-b5edb134ec99)\n",
        "7. [Connect Muscles to Movement](#scrollTo=0d494468-1f12-4f71-9196-9a77e1633a38)\n",
        "\n",
        "<hr>"
      ],
      "id": "zIt8pCksxZic"
    },
    {
      "cell_type": "markdown",
      "metadata": {
        "id": "850eb426-07d8-4407-82f1-f163a2c960b6"
      },
      "source": [
        "## 1. Introduction\n",
        "([Return to Table of Contents](#scrollTo=zIt8pCksxZic))\n",
        "\n",
        "By thoughtfully working through the analysis in this notebook, you will learn more about what it means for neural/muscle activity to be coordinated. \n",
        "Some of the terms and analytic techniques that you will be using:\n",
        "- EMG\n",
        "- amplitude envelope\n",
        "- correlation\n",
        "\n",
        "Throughout the notebook, you will plot both raw and processed data.\n",
        "- You can interact with the plots by zooming in and panning. <br>\n",
        "- You can save the current plot view at any time by hitting the \"download\" icon - it will save to your Downloads folder. Make sure to re-name the auto-generated file and make notes about what you plotted right away. <br>\n",
        "\n",
        "To aquire this dataset, differential emg electrodes were used to simultaneously record emg activity from different muscles \n",
        "<br>\n",
        "<br>\n",
        "\n",
        "\n",
        "\n",
        "\n"
      ],
      "id": "850eb426-07d8-4407-82f1-f163a2c960b6"
    },
    {
      "cell_type": "markdown",
      "metadata": {
        "id": "GsbjCNcAw9VA"
      },
      "source": [
        "## 2. Initialize notebook.\n",
        "([Return to Table of Contents](#scrollTo=zIt8pCksxZic))\n"
      ],
      "id": "GsbjCNcAw9VA"
    },
    {
      "cell_type": "code",
      "execution_count": null,
      "metadata": {
        "cellView": "form",
        "id": "avekklfgakdL"
      },
      "outputs": [],
      "source": [
        "#@markdown **TASK:** Run this code cell to upgrade colab packages\n",
        "#@markdown >IMPORTANT: Hit the \"RESTART RUNTIME\" button that appears after the code cell finishes executing.\n",
        "\n",
        "import matplotlib.pyplot as plt\n",
        "import numpy as np\n",
        "import pandas as pd\n",
        "from pathlib import Path\n",
        "# import matplotlib.pyplot as plt\n",
        "import plotly.express as px\n",
        "import plotly.graph_objects as go\n",
        "from plotly.subplots import make_subplots\n",
        "import ipywidgets as widgets\n",
        "from IPython.display import display\n",
        "import csv\n",
        "from scipy.io import wavfile\n",
        "from scipy.signal import hilbert,medfilt,resample\n",
        "from sklearn.decomposition import PCA\n",
        "import scipy\n",
        "import seaborn as sns\n",
        "from datetime import datetime,timezone,timedelta\n",
        "pal = sns.color_palette(n_colors=15)\n",
        "pal = pal.as_hex()\n",
        "\n",
        "\n",
        "!pip install --upgrade tables"
      ],
      "id": "avekklfgakdL"
    },
    {
      "cell_type": "code",
      "execution_count": null,
      "metadata": {
        "cellView": "form",
        "id": "r9t8zvJfY_V2"
      },
      "outputs": [],
      "source": [
        "#@markdown **TASK:** Run this code cell to mount your Google Drive.\n",
        "\n",
        "from google.colab import drive\n",
        "drive.mount('/content/drive')\n"
      ],
      "id": "r9t8zvJfY_V2"
    },
    {
      "cell_type": "code",
      "execution_count": null,
      "metadata": {
        "cellView": "form",
        "id": "EkzLEmmPbLU_"
      },
      "outputs": [],
      "source": [
        "#@markdown <b>TASK: </b> Specify the file path to some recorded data in the content folder of Colab:\n",
        "#@markdown >NOTE: the data must be a .wav file (use VLCmedia player to convert if necessary)\n",
        "filepath = \"/content/drive/MyDrive/Classroom/BIOL358: Motor Systems/Data/Nathan_MotorUnitTypes_BYB_Recording_2022-02-14_08.24.47.wav\"  #@param \n",
        "#@markdown <b>TASK: </b> After you have copied/typed in a filepath, <b> hit the play button to RUN this cell </b>\n",
        "\n",
        "\n",
        "# data_folder = \"/content/drive/Shareddrives/BIOL358/Data/Interossei_1chan_MotorUnitIsolation\"\n",
        "\n",
        "emg_path = Path(filepath)\n",
        "print('Tasks completed at ' + str(datetime.now(timezone(-timedelta(hours=5)))))\n"
      ],
      "id": "EkzLEmmPbLU_"
    },
    {
      "cell_type": "markdown",
      "source": [
        "# 3. Import Data\n"
      ],
      "metadata": {
        "id": "D2GAxldFiZaV"
      },
      "id": "D2GAxldFiZaV"
    },
    {
      "cell_type": "code",
      "execution_count": null,
      "metadata": {
        "cellView": "form",
        "id": "63fd8fa5-0914-4d1a-87bd-9d20927aedca"
      },
      "outputs": [],
      "source": [
        "#@markdown **TASK:** Run this code cell to load the dataset you will explore and analyze.\n",
        "#@markdown This will also produce a plot of the raw signal from each channel\n",
        "\n",
        "# datafolder = \"/content/drive/Shareddrives/BIOL358/Data/Interossei_2chan_WithVideo\"\n",
        "# emg_file = \"emg_Resampled_2022-01-10T11_39_23.csv\"\n",
        "# emg_path = Path(datafolder) / emg_file\n",
        "sample_rate_OG, samples_OG = wavfile.read(emg_path)\n",
        "# if len(np.shape(samples_OG))>1: #stereo wav file\n",
        "#   samples_OG = samples_OG[:,0] #just the first channel\n",
        "\n",
        "sample_rate = 5000 #sample rate you want to downsample to\n",
        "dur = len(samples_OG)/sample_rate_OG #duration of original (to get actual sample rate)\n",
        "stepfactor = int(sample_rate_OG/sample_rate) #conversion factor to step from high to low sample rate\n",
        "if len(np.shape(samples_OG)) == 1:\n",
        "  samples = samples_OG[0:-1:stepfactor].reshape(-1,1)\n",
        "if len(np.shape(samples_OG)) > 1:\n",
        "  samples = []\n",
        "  for chan in samples_OG.T:\n",
        "    samples.append(chan[0:-1:stepfactor]) #use conversion factor to downsample\n",
        "  samples = np.asarray(samples).T\n",
        "sample_rate = int(len(samples)/dur) # calculate actual new sample rate\n",
        "# print(sample_rate)\n",
        "xtime = np.linspace(0,dur,len(samples))\n",
        "\n",
        "# filtert = int(0.01*sample_rate)\n",
        "# y = np.abs(samples) #takes the absolute value of \n",
        "# samples_envelope = scipy.ndimage.gaussian_filter(y,filtert)\n",
        "# samples_envelope =(samples_envelope - np.mean(samples_envelope)) / np.std(samples_envelope)\n",
        "\n",
        "print('Data upload completed at ' + str(datetime.now(timezone(-timedelta(hours=5)))))\n",
        "\n",
        "print('Now be a bit patient while it plots.')\n",
        "fig = go.Figure()\n",
        "for i,chan in enumerate(samples.T):\n",
        "  fig.add_trace(go.Scatter(x = xtime, y = chan+(i*4000),\n",
        "                           opacity=0.75,name='channel' + str(i)))\n",
        "# fig.add_trace(go.Scatter(x = xtime, y = samples[:,1],line_color='red',name='emg1'))\n",
        "fig.update_layout(xaxis_title=\"time(seconds)\", yaxis_title='amplitude',width=800, height=500)"
      ],
      "id": "63fd8fa5-0914-4d1a-87bd-9d20927aedca"
    },
    {
      "cell_type": "markdown",
      "metadata": {
        "id": "jE6GzivbzjVP"
      },
      "source": [
        "## 4. Analyze a selection of the data. \n",
        "([Return to Table of Contents](#scrollTo=zIt8pCksxZic))"
      ],
      "id": "jE6GzivbzjVP"
    },
    {
      "cell_type": "code",
      "execution_count": null,
      "metadata": {
        "id": "ccb7f4d2-384b-4161-8c57-9d37750c91bc",
        "cellView": "form"
      },
      "outputs": [],
      "source": [
        "#@markdown Pick a time window to analyze that corresponds to \n",
        "#@markdown which movement you want to analyze \n",
        "#@markdown and enter it in the code cell below.\n",
        "#@markdown > Note: get the time by hovering over the data plot. \n",
        "#@markdown - **start** = the start time of the bout you want to analyze (seconds).\n",
        "#@markdown - **stop** = the stop time of the bout you want to analyze (seconds).\n",
        "\n",
        "start = None #@param {type:\"number\"}\n",
        "stop = None #@param {type:\"number\"}\n",
        "\n",
        "#@markdown <b>Task:</b> After you have specified the start and stop times,\n",
        "#@markdown run this cell to execute the variable assignment.\n",
        "samples_selection = samples[((xtime>start) & (xtime<stop)),:]\n",
        "xtime_selection = xtime[((xtime>start) & (xtime<stop))]\n",
        "print('all set - analysis domain defined')\n",
        "print('Task completed at ' + str(datetime.now(timezone(-timedelta(hours=5)))))"
      ],
      "id": "ccb7f4d2-384b-4161-8c57-9d37750c91bc"
    },
    {
      "cell_type": "markdown",
      "metadata": {
        "id": "0d1f1545-2f25-4bfe-be34-1dfb7ca3444e"
      },
      "source": [
        "## 5. Process the raw EMG signal into a rectified, smoothed \"amplitude envelope\"\n",
        "([Return to Table of Contents](#scrollTo=zIt8pCksxZic))\n",
        "\n",
        "This is a type of *signal processing* that transforms raw EMG activity (a bipolar signal - both positive and negative values) into what we refer to as the *amplitude envelope* of the EMG activity. The \"smoothing\" of the envelope results in a waveform that reflects both the amplitude and the rate of the raw EMG signal (accounts for both spatial and temporal summation). "
      ],
      "id": "0d1f1545-2f25-4bfe-be34-1dfb7ca3444e"
    },
    {
      "cell_type": "code",
      "execution_count": null,
      "metadata": {
        "id": "04522a80-6411-4c81-b24e-358987ac64dc",
        "cellView": "form"
      },
      "outputs": [],
      "source": [
        "#@markdown <b>Task:</b> Run this cell to compute the envelope of the \n",
        "#@markdown raw EMG signal for the specified time window\n",
        "#@markdown and plot of the result. \n",
        "#@markdown > Note: pick a width of the temporal smoothing filter\n",
        "\n",
        "filter_width = 0.025 #@param\n",
        "\n",
        "fs = sample_rate\n",
        "fig = go.Figure()\n",
        "# Use rectfication and gaussian smoothing on EMG to get mean-centered rate\n",
        "df_envelope = pd.DataFrame({})\n",
        "filtert = int(filter_width*fs)\n",
        "for i,chan in enumerate(samples_selection.T): # rename headers as input channels\n",
        "    y = chan - np.mean(chan)\n",
        "    y = np.abs(y) #takes the absolute value of \n",
        "    y = scipy.ndimage.gaussian_filter(y,filtert)\n",
        "    df_envelope[i] = y\n",
        "    fig.add_trace(go.Scatter(x = xtime_selection, y = y,\n",
        "                             name='channel'+str(i)))\n",
        "\n",
        "# df_rate = df_rate.subtract(df_rate.mean())\n",
        "# df_rate =(df_rate - df_rate.mean()) / df_rate.std()\n",
        "df_envelope['time']=xtime_selection\n",
        "# df_rate = df_rate[((df_rate['time']>start) & (df_rate['time']<stop))]\n",
        "\n",
        "\n",
        "\n",
        "# fig.add_trace(go.Scatter(x = df_rate['time'].values, y = df_rate['emg1'].values,line_color='purple',name='medial'))\n",
        "fig.update_layout(xaxis_title=\"time(seconds)\", \n",
        "                  yaxis_title='amplitude',width=800, height=400)\n",
        "# fig.layout.xaxis.showticklabels=False\n",
        "print('Task completed at ' + str(datetime.now(timezone(-timedelta(hours=5)))))\n",
        "fig.show()"
      ],
      "id": "04522a80-6411-4c81-b24e-358987ac64dc"
    },
    {
      "cell_type": "markdown",
      "metadata": {
        "id": "84f7e282-b954-42bd-8ea2-b5edb134ec99"
      },
      "source": [
        "## 6. Muscle coordination\n",
        "([Return to Table of Contents](#scrollTo=zIt8pCksxZic))\n",
        "\n",
        "Think about how you would qualitatively describe the relationship between the two muscle signals that you plotted. The correlation metric is often helpful to quantify the relationship between signals. Essentially, correlation is the measure of how two or more variables are related to one another. https://en.wikipedia.org/wiki/Correlation\n",
        "\n"
      ],
      "id": "84f7e282-b954-42bd-8ea2-b5edb134ec99"
    },
    {
      "cell_type": "code",
      "execution_count": null,
      "metadata": {
        "cellView": "form",
        "id": "0387e96e-32ec-461c-a242-f7070d9356aa"
      },
      "outputs": [],
      "source": [
        "#@markdown <b>Task:</b> Run this cell to: <br> 1. calculate the \n",
        "#@markdown mathematical correlation values between the two signals and\n",
        "#@markdown <br> 2. plot the lateral and medial EMG envelopes against each other\n",
        "#@markdown (rather than across time as you did before). \n",
        "\n",
        "#@markdown Think about how the scatterplot is a way to visualize *correlation*.\n",
        "#@markdown Does the scatterplot change the way you interpret the correlation value that you calculated?\n",
        "\n",
        "# No need to edit this code cell\n",
        "################################\n",
        "print('correlation matrix:')\n",
        "p_corr = df_rate.drop('time',axis=1).corr()\n",
        "# hfig, ax = plt.subplots(1)\n",
        "# sns.heatmap(p_corr, annot=True)\n",
        "display(p_corr)\n",
        "\n",
        "fig = go.Figure()\n",
        "fig.add_trace(go.Scatter(x = df_rate['emg0'].values, \n",
        "                         y = df_rate['emg1'].values,\n",
        "                        #  marker_color='black',\n",
        "                         mode = 'markers', \n",
        "                         marker=dict(\n",
        "                          color='black',\n",
        "                          size=2,\n",
        "                          opacity=0.5,)))\n",
        "fig.update_layout(xaxis_title=\"amplitude lateral interossei\", \n",
        "                  yaxis_title='amplitude medial interossei',\n",
        "                  width=400, height=400)\n",
        "fig.update_yaxes(\n",
        "    scaleanchor = \"x\",\n",
        "    scaleratio = 1,\n",
        "  )\n",
        "# axs.set_ylabel('amplitude (a.u.) of your second EMG channel')\n",
        "# axs.set_xlabel('amplitude (a.u.) of your first EMG channel');\n"
      ],
      "id": "0387e96e-32ec-461c-a242-f7070d9356aa"
    }
  ],
  "metadata": {
    "colab": {
      "collapsed_sections": [],
      "name": "NotebookColab_EMG_MultiChannel_SpikeRecorderWav.ipynb",
      "provenance": [],
      "include_colab_link": true
    },
    "kernelspec": {
      "display_name": "Python 3 (ipykernel)",
      "language": "python",
      "name": "python3"
    },
    "language_info": {
      "codemirror_mode": {
        "name": "ipython",
        "version": 3
      },
      "file_extension": ".py",
      "mimetype": "text/x-python",
      "name": "python",
      "nbconvert_exporter": "python",
      "pygments_lexer": "ipython3",
      "version": "3.8.12"
    }
  },
  "nbformat": 4,
  "nbformat_minor": 5
}